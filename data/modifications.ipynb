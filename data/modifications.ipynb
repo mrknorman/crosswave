{
 "cells": [
  {
   "cell_type": "markdown",
   "metadata": {},
   "source": [
    "# What do we want?"
   ]
  },
  {
   "cell_type": "markdown",
   "metadata": {},
   "source": [
    "What do we want?\n",
    "- 100,000 to 500,000 data sets\n",
    "- 2s or 4s time series\n",
    "    - Easiest to be a numpy array?\n",
    "- Contain 1 or two signals\n",
    "- Single detector\n",
    "- Coloured Gaussian noise at the moment\n",
    "    - Different noise for each segment\n",
    "- Vary merger times within the segment (not always at center of chunk)\n",
    "- Create Signal A, Signal B and Pair"
   ]
  },
  {
   "cell_type": "markdown",
   "metadata": {},
   "source": [
    "What do we have?\n",
    "- Code that generates an observing run, randomly with overlapping and non overlapping signals\n",
    "\n",
    "What do we need to change?\n",
    "- [x] Lower sampling rate\n",
    "- [x] Enforce no accidental overlap in all cases\n",
    "- [x] Simpler parameter sets\n",
    "    - [x] Equal mass ratio\n",
    "    - [x] Zero spin\n",
    "    - [x] Simple waveform (`IMRPhenomT`)\n",
    "    - [x] Varied $\\Delta T$\n",
    "    - [x] Varied Chirp mass \n",
    "        - Inside sampling rate\n",
    "        - Uniform from 15 - 25 \n",
    "    - [x] High SNR\n",
    "        - 25+\n",
    "        - Force luminosity distance to be high\n",
    "- [x] Different noise in each segment (A, B, Pairs etc)"
   ]
  },
  {
   "cell_type": "code",
   "execution_count": null,
   "metadata": {},
   "outputs": [],
   "source": [
    "import json\n",
    "import h5py\n",
    "import numpy as np\n",
    "import matplotlib.pyplot as plt\n",
    "from tqdm import trange\n",
    "from gwpy.timeseries import TimeSeries\n",
    "\n",
    "import signal_generation\n",
    "import generate_runfiles"
   ]
  },
  {
   "cell_type": "code",
   "execution_count": null,
   "metadata": {},
   "outputs": [],
   "source": [
    "with open(\"runfiles/TEST/TEST_signal_catalog.json\", \"r\") as f:\n",
    "    signals_dict = json.load(f)"
   ]
  },
  {
   "cell_type": "code",
   "execution_count": null,
   "metadata": {},
   "outputs": [],
   "source": [
    "SNRs = np.array([value[\"H1_SNR\"] for value in signals_dict.values()])"
   ]
  },
  {
   "cell_type": "code",
   "execution_count": null,
   "metadata": {},
   "outputs": [],
   "source": [
    "idx = np.abs(SNRs - 30).argmin()\n",
    "print(signals_dict[f\"signal{idx}\"][\"ra\"])\n",
    "print(signals_dict[f\"signal{idx}\"][\"dec\"])\n",
    "print(signals_dict[f\"signal{idx}\"][\"inclination\"])\n",
    "print(signals_dict[f\"signal{idx}\"][\"polarization\"])"
   ]
  },
  {
   "cell_type": "code",
   "execution_count": null,
   "metadata": {},
   "outputs": [],
   "source": [
    "plt.hist(SNRs)\n",
    "plt.show()\n",
    "plt.close()"
   ]
  },
  {
   "cell_type": "code",
   "execution_count": null,
   "metadata": {},
   "outputs": [],
   "source": [
    "times = np.array([value[\"H1_time\"] for value in signals_dict.values()])\n",
    "timesA = times[:len(times)//2]\n",
    "timesB = times[len(times)//2:]"
   ]
  },
  {
   "cell_type": "code",
   "execution_count": null,
   "metadata": {},
   "outputs": [],
   "source": [
    "durations = np.array([value[\"duration_20\"] for value in signals_dict.values()])[:len(timesA)]"
   ]
  },
  {
   "cell_type": "code",
   "execution_count": null,
   "metadata": {},
   "outputs": [],
   "source": [
    "diff = timesA - timesB"
   ]
  },
  {
   "cell_type": "code",
   "execution_count": null,
   "metadata": {},
   "outputs": [],
   "source": [
    "(durations - diff).argmin()"
   ]
  },
  {
   "cell_type": "code",
   "execution_count": null,
   "metadata": {},
   "outputs": [],
   "source": [
    "data = h5py.File(\"runfiles/TEST/H1_data/data.hdf5\", \"r\")"
   ]
  },
  {
   "cell_type": "code",
   "execution_count": null,
   "metadata": {},
   "outputs": [],
   "source": [
    "data[\"PAIRS\"]"
   ]
  },
  {
   "cell_type": "code",
   "execution_count": null,
   "metadata": {},
   "outputs": [],
   "source": [
    "signal = data[\"PAIRS\"][64]"
   ]
  },
  {
   "cell_type": "code",
   "execution_count": null,
   "metadata": {},
   "outputs": [],
   "source": [
    "x = np.linspace(0, 16, 16*1024)\n",
    "plt.figure(figsize=(12,8))\n",
    "plt.plot(x, signal)\n",
    "plt.show()\n",
    "plt.close()"
   ]
  },
  {
   "cell_type": "code",
   "execution_count": null,
   "metadata": {},
   "outputs": [],
   "source": []
  }
 ],
 "metadata": {
  "kernelspec": {
   "display_name": "igwn-py39",
   "language": "python",
   "name": "igwn-py39"
  },
  "language_info": {
   "codemirror_mode": {
    "name": "ipython",
    "version": 3
   },
   "file_extension": ".py",
   "mimetype": "text/x-python",
   "name": "python",
   "nbconvert_exporter": "python",
   "pygments_lexer": "ipython3",
   "version": "3.9.13"
  }
 },
 "nbformat": 4,
 "nbformat_minor": 4
}
